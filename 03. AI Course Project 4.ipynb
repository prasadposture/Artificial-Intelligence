{
 "cells": [
  {
   "cell_type": "markdown",
   "id": "1d1f71a9",
   "metadata": {},
   "source": [
    "### Prasad Rajesh Posture  \n",
    "**Batch** : July 2022<br>\n",
    "Artificial Intelligence"
   ]
  },
  {
   "cell_type": "markdown",
   "id": "26d541bd",
   "metadata": {},
   "source": [
    "**Task**: Write a Python program to print all positive numbers in a range."
   ]
  },
  {
   "cell_type": "code",
   "execution_count": 1,
   "id": "cdb2d013",
   "metadata": {},
   "outputs": [
    {
     "name": "stdout",
     "output_type": "stream",
     "text": [
      "12\n",
      "5\n",
      "64\n"
     ]
    }
   ],
   "source": [
    "list1=[12,-7,5,64,-14] #input list\n",
    "for i in list1:\n",
    "    if i>0:\n",
    "        print(i)"
   ]
  },
  {
   "cell_type": "code",
   "execution_count": 2,
   "id": "30e6e4ef",
   "metadata": {},
   "outputs": [
    {
     "name": "stdout",
     "output_type": "stream",
     "text": [
      "[12, 14, 3]\n"
     ]
    }
   ],
   "source": [
    "#printing positive numbers as a list\n",
    "list2=[12,14,-95,3] #input list\n",
    "A=[]\n",
    "for i in list2:\n",
    "    if i>0:\n",
    "        A.append(i)\n",
    "print(A)  "
   ]
  }
 ],
 "metadata": {
  "kernelspec": {
   "display_name": "Python 3",
   "language": "python",
   "name": "python3"
  },
  "language_info": {
   "codemirror_mode": {
    "name": "ipython",
    "version": 3
   },
   "file_extension": ".py",
   "mimetype": "text/x-python",
   "name": "python",
   "nbconvert_exporter": "python",
   "pygments_lexer": "ipython3",
   "version": "3.8.8"
  }
 },
 "nbformat": 4,
 "nbformat_minor": 5
}
