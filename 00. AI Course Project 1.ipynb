{
 "cells": [
  {
   "cell_type": "markdown",
   "id": "fbec34a4",
   "metadata": {},
   "source": [
    "### Prasad Rajesh Posture  \n",
    "**Batch**: July 2022  \n",
    "Artificial Intelligence  "
   ]
  },
  {
   "cell_type": "markdown",
   "id": "c121ba7e",
   "metadata": {},
   "source": [
    "**Task**:  Name 5 such applications of AI in your everyday life which affects your day to day activities."
   ]
  },
  {
   "cell_type": "markdown",
   "id": "612f135a",
   "metadata": {},
   "source": [
    "**Answer**:\n",
    "1) Fitness Band/Smart Watch: it gathers all data about my physical activities, my sleep durations and notifies me to do physical activities  \n",
    "2) You Tube : You tube suggests me various videos based on my interest and keeps me hooked up there.  \n",
    "3) Alexa: It answers any questions, plays music, turns on the tv and many other things  \n",
    "4) Face Recognition: My phone has a face lock, it uses face recognition technique and recognizes my face and gets unlocked.  \n",
    "5) Grammerly: I use this app while writing emails and essays. It gives suggestions while writing and also highights grammatical errors.  "
   ]
  }
 ],
 "metadata": {
  "kernelspec": {
   "display_name": "Python 3",
   "language": "python",
   "name": "python3"
  },
  "language_info": {
   "codemirror_mode": {
    "name": "ipython",
    "version": 3
   },
   "file_extension": ".py",
   "mimetype": "text/x-python",
   "name": "python",
   "nbconvert_exporter": "python",
   "pygments_lexer": "ipython3",
   "version": "3.8.8"
  }
 },
 "nbformat": 4,
 "nbformat_minor": 5
}
