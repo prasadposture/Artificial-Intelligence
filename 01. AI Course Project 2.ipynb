{
 "cells": [
  {
   "cell_type": "markdown",
   "id": "035d63a4",
   "metadata": {},
   "source": [
    "### Prasad Rajesh Posture  \n",
    "**Batch** : July 2022<br>\n",
    "Artificial Intelligence"
   ]
  },
  {
   "cell_type": "markdown",
   "id": "724567f6",
   "metadata": {},
   "source": [
    "**Task**: # Displaying \"Hello World!\" on the screen # print is a Python defined default function, we are simply using it here print(\"Hello World!\")"
   ]
  },
  {
   "cell_type": "code",
   "execution_count": 1,
   "id": "6fc78c48",
   "metadata": {},
   "outputs": [
    {
     "name": "stdout",
     "output_type": "stream",
     "text": [
      "Hello World!\n"
     ]
    }
   ],
   "source": [
    "# Displaying \"Hello World!\" on the screen \n",
    "# print is a Python defined default function, we are simply using it here \n",
    "print(\"Hello World!\")"
   ]
  }
 ],
 "metadata": {
  "kernelspec": {
   "display_name": "Python 3",
   "language": "python",
   "name": "python3"
  },
  "language_info": {
   "codemirror_mode": {
    "name": "ipython",
    "version": 3
   },
   "file_extension": ".py",
   "mimetype": "text/x-python",
   "name": "python",
   "nbconvert_exporter": "python",
   "pygments_lexer": "ipython3",
   "version": "3.8.8"
  }
 },
 "nbformat": 4,
 "nbformat_minor": 5
}
