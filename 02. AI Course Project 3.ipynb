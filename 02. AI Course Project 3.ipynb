{
 "cells": [
  {
   "cell_type": "markdown",
   "id": "e2171c36",
   "metadata": {},
   "source": [
    "### Prasad Rajesh Posture  \n",
    "**Batch** : July 2022<br>\n",
    "Artificial Intelligence"
   ]
  },
  {
   "cell_type": "markdown",
   "id": "9a777b79",
   "metadata": {},
   "source": [
    "**Task**: Write a python program for Fibonacci number"
   ]
  },
  {
   "cell_type": "markdown",
   "id": "0e0d3273",
   "metadata": {},
   "source": [
    "The program written below takes use input and gives output in the form of Fibonacci numbers"
   ]
  },
  {
   "cell_type": "code",
   "execution_count": 1,
   "id": "ba1dd13f",
   "metadata": {},
   "outputs": [
    {
     "name": "stdout",
     "output_type": "stream",
     "text": [
      "Find a Fibonacci sequence for n=10\n",
      "0\n",
      "1\n",
      "1\n",
      "2\n",
      "3\n",
      "5\n",
      "8\n",
      "13\n",
      "21\n",
      "34\n"
     ]
    }
   ],
   "source": [
    "n=int(input(\"Find a Fibonacci sequence for n=\")) #takes input from the user #here we are givint it as n=10\n",
    "def fib(n):\n",
    "    if n==1:\n",
    "        return 0\n",
    "    elif n==2:\n",
    "        return 1\n",
    "    else:\n",
    "        return (fib(n-1)+fib(n-2)) #recursive function that takes calls itself\n",
    "for i in range(1,n+1):\n",
    "    print(fib(i)) #'for loop' for getting the Fibonacci sequence for given range"
   ]
  },
  {
   "cell_type": "code",
   "execution_count": 2,
   "id": "3db745cc",
   "metadata": {},
   "outputs": [
    {
     "name": "stdout",
     "output_type": "stream",
     "text": [
      "Find a Fibonacci sequence for n=15\n",
      "0\n",
      "1\n",
      "1\n",
      "2\n",
      "3\n",
      "5\n",
      "8\n",
      "13\n",
      "21\n",
      "34\n",
      "55\n",
      "89\n",
      "144\n",
      "233\n",
      "377\n"
     ]
    }
   ],
   "source": [
    "#for n=15\n",
    "n=int(input(\"Find a Fibonacci sequence for n=\")) #takes input from the user\n",
    "def fib(n):\n",
    "    if n==1:\n",
    "        return 0\n",
    "    elif n==2:\n",
    "        return 1\n",
    "    else:\n",
    "        return (fib(n-1)+fib(n-2)) #recursive function that takes calls itself\n",
    "for i in range(1,n+1):\n",
    "    print(fib(i)) #'for loop' for getting the Fibonacci sequence for given range"
   ]
  }
 ],
 "metadata": {
  "kernelspec": {
   "display_name": "Python 3",
   "language": "python",
   "name": "python3"
  },
  "language_info": {
   "codemirror_mode": {
    "name": "ipython",
    "version": 3
   },
   "file_extension": ".py",
   "mimetype": "text/x-python",
   "name": "python",
   "nbconvert_exporter": "python",
   "pygments_lexer": "ipython3",
   "version": "3.8.8"
  }
 },
 "nbformat": 4,
 "nbformat_minor": 5
}
